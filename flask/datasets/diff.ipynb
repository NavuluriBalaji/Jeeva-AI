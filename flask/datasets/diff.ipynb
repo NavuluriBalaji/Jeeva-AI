{
 "cells": [
  {
   "cell_type": "code",
   "execution_count": 1,
   "metadata": {},
   "outputs": [
    {
     "name": "stdout",
     "output_type": "stream",
     "text": [
      "Columns in dataset.csv but not in Training.csv: {'Unnamed: 6', 'Unnamed: 15', 'Fungal infection', ' dischromic _patches', 'Unnamed: 13', 'Unnamed: 14', 'Unnamed: 12', ' skin_rash', ' nodal_skin_eruptions', 'Unnamed: 16', 'Unnamed: 9', 'Unnamed: 5', 'Unnamed: 11', 'Unnamed: 8', 'Unnamed: 7', 'Unnamed: 10', 'Unnamed: 17'}\n",
      "Columns in Training.csv but not in dataset.csv: {'family_history', 'cold_hands_and_feets', 'bloody_stool', 'nodal_skin_eruptions', 'inflammatory_nails', 'polyuria', 'mood_swings', 'sweating', 'diarrhoea', 'malaise', 'visual_disturbances', 'watering_from_eyes', 'extra_marital_contacts', 'depression', 'passage_of_gases', 'redness_of_eyes', 'runny_nose', 'enlarged_thyroid', 'constipation', 'swollen_legs', 'breathlessness', 'hip_joint_pain', 'vomiting', 'spotting_ urination', 'headache', 'scurring', 'cramps', 'silver_like_dusting', 'yellow_crust_ooze', 'unsteadiness', 'abdominal_pain', 'receiving_blood_transfusion', 'blister', 'red_sore_around_nose', 'restlessness', 'bladder_discomfort', 'rusty_sputum', 'burning_micturition', 'foul_smell_of urine', 'shivering', 'bruising', 'anxiety', 'acute_liver_failure', 'knee_pain', 'stiff_neck', 'loss_of_balance', 'patches_in_throat', 'nausea', 'muscle_weakness', 'brittle_nails', 'excessive_hunger', 'pus_filled_pimples', 'small_dents_in_nails', 'chest_pain', 'dischromic _patches', 'swelling_of_stomach', 'phlegm', 'stomach_bleeding', 'prognosis', 'loss_of_appetite', 'coma', 'drying_and_tingling_lips', 'congestion', 'fatigue', 'joint_pain', 'movement_stiffness', 'abnormal_menstruation', 'neck_pain', 'cough', 'yellowish_skin', 'palpitations', 'throat_irritation', 'prominent_veins_on_calf', 'muscle_wasting', 'weight_loss', 'indigestion', 'painful_walking', 'loss_of_smell', 'distention_of_abdomen', 'lack_of_concentration', 'stomach_pain', 'sinus_pressure', 'blurred_and_distorted_vision', 'swollen_extremeties', 'internal_itching', 'fluid_overload.1', 'skin_peeling', 'dizziness', 'altered_sensorium', 'swollen_blood_vessels', 'increased_appetite', 'receiving_unsterile_injections', 'weakness_in_limbs', 'yellow_urine', 'blackheads', 'fluid_overload', 'lethargy', 'sunken_eyes', 'belly_pain', 'skin_rash', 'chills', 'pain_behind_the_eyes', 'swelling_joints', 'irregular_sugar_level', 'acidity', 'muscle_pain', 'continuous_sneezing', 'pain_during_bowel_movements', 'dark_urine', 'weakness_of_one_body_side', 'puffy_face_and_eyes', 'irritation_in_anus', 'pain_in_anal_region', 'ulcers_on_tongue', 'mild_fever', 'back_pain', 'spinning_movements', 'continuous_feel_of_urine', 'red_spots_over_body', 'swelled_lymph_nodes', 'dehydration', 'slurred_speech', 'weight_gain', 'obesity', 'mucoid_sputum', 'history_of_alcohol_consumption', 'irritability', 'toxic_look_(typhos)', 'blood_in_sputum', 'yellowing_of_eyes', 'high_fever', 'fast_heart_rate'}\n"
     ]
    }
   ],
   "source": [
    "import pandas as pd\n",
    "\n",
    "# Load the datasets\n",
    "dataset_df = pd.read_csv(\"D:/Capstone Project/sahayak-main/sahayak-main/flask/datasets/dataset.csv\")\n",
    "training_df = pd.read_csv(\"D:/Capstone Project/sahayak-main/sahayak-main/flask/datasets/Training.csv\")\n",
    "\n",
    "# Get the columns\n",
    "dataset_columns = set(dataset_df.columns)\n",
    "training_columns = set(training_df.columns)\n",
    "\n",
    "# Find the differences\n",
    "extra_in_dataset = dataset_columns - training_columns\n",
    "extra_in_training = training_columns - dataset_columns\n",
    "\n",
    "print(\"Columns in dataset.csv but not in Training.csv:\", extra_in_dataset)\n",
    "print(\"Columns in Training.csv but not in dataset.csv:\", extra_in_training)"
   ]
  },
  {
   "cell_type": "code",
   "execution_count": 3,
   "metadata": {},
   "outputs": [
    {
     "name": "stdout",
     "output_type": "stream",
     "text": [
      "Common columns: {'itching'}\n"
     ]
    },
    {
     "ename": "KeyError",
     "evalue": "\"['skin_rash', 'nodal_skin_eruptions', 'continuous_sneezing', 'shivering', 'chills', 'joint_pain', 'stomach_pain', 'acidity', 'ulcers_on_tongue', 'muscle_wasting', 'vomiting', 'burning_micturition', 'spotting_ urination', 'fatigue', 'weight_gain', 'anxiety', 'cold_hands_and_feets', 'mood_swings', 'weight_loss', 'restlessness', 'lethargy', 'patches_in_throat', 'irregular_sugar_level', 'cough', 'high_fever', 'sunken_eyes', 'breathlessness', 'sweating', 'dehydration', 'indigestion', 'headache', 'yellowish_skin', 'dark_urine', 'nausea', 'loss_of_appetite', 'pain_behind_the_eyes', 'back_pain', 'constipation', 'abdominal_pain', 'diarrhoea', 'mild_fever', 'yellow_urine', 'yellowing_of_eyes', 'acute_liver_failure', 'fluid_overload', 'swelling_of_stomach', 'swelled_lymph_nodes', 'malaise', 'blurred_and_distorted_vision', 'phlegm', 'throat_irritation', 'redness_of_eyes', 'sinus_pressure', 'runny_nose', 'congestion', 'chest_pain', 'weakness_in_limbs', 'fast_heart_rate', 'pain_during_bowel_movements', 'pain_in_anal_region', 'bloody_stool', 'irritation_in_anus', 'neck_pain', 'dizziness', 'cramps', 'bruising', 'obesity', 'swollen_legs', 'swollen_blood_vessels', 'puffy_face_and_eyes', 'enlarged_thyroid', 'brittle_nails', 'swollen_extremeties', 'excessive_hunger', 'extra_marital_contacts', 'drying_and_tingling_lips', 'slurred_speech', 'knee_pain', 'hip_joint_pain', 'muscle_weakness', 'stiff_neck', 'swelling_joints', 'movement_stiffness', 'spinning_movements', 'loss_of_balance', 'unsteadiness', 'weakness_of_one_body_side', 'loss_of_smell', 'bladder_discomfort', 'foul_smell_of urine', 'continuous_feel_of_urine', 'passage_of_gases', 'internal_itching', 'toxic_look_(typhos)', 'depression', 'irritability', 'muscle_pain', 'altered_sensorium', 'red_spots_over_body', 'belly_pain', 'abnormal_menstruation', 'dischromic _patches', 'watering_from_eyes', 'increased_appetite', 'polyuria', 'family_history', 'mucoid_sputum', 'rusty_sputum', 'lack_of_concentration', 'visual_disturbances', 'receiving_blood_transfusion', 'receiving_unsterile_injections', 'coma', 'stomach_bleeding', 'distention_of_abdomen', 'history_of_alcohol_consumption', 'fluid_overload.1', 'blood_in_sputum', 'prominent_veins_on_calf', 'palpitations', 'painful_walking', 'pus_filled_pimples', 'blackheads', 'scurring', 'skin_peeling', 'silver_like_dusting', 'small_dents_in_nails', 'inflammatory_nails', 'blister', 'red_sore_around_nose', 'yellow_crust_ooze', 'prognosis'] not in index\"",
     "output_type": "error",
     "traceback": [
      "\u001b[1;31m---------------------------------------------------------------------------\u001b[0m",
      "\u001b[1;31mKeyError\u001b[0m                                  Traceback (most recent call last)",
      "Cell \u001b[1;32mIn[3], line 23\u001b[0m\n\u001b[0;32m     20\u001b[0m new_training_df \u001b[38;5;241m=\u001b[39m dataset_df[\u001b[38;5;28mlist\u001b[39m(common_columns)]\n\u001b[0;32m     22\u001b[0m \u001b[38;5;66;03m# Ensure the columns are in the same order as in the original Training.csv\u001b[39;00m\n\u001b[1;32m---> 23\u001b[0m new_training_df \u001b[38;5;241m=\u001b[39m \u001b[43mnew_training_df\u001b[49m\u001b[43m[\u001b[49m\u001b[43mtraining_df\u001b[49m\u001b[38;5;241;43m.\u001b[39;49m\u001b[43mcolumns\u001b[49m\u001b[43m]\u001b[49m\n\u001b[0;32m     25\u001b[0m \u001b[38;5;66;03m# Save the new Training.csv\u001b[39;00m\n\u001b[0;32m     26\u001b[0m new_training_path \u001b[38;5;241m=\u001b[39m \u001b[38;5;124m\"\u001b[39m\u001b[38;5;124mD:/Capstone Project/sahayak-main/sahayak-main/flask/datasets/Training_converted.csv\u001b[39m\u001b[38;5;124m\"\u001b[39m\n",
      "File \u001b[1;32mc:\\Users\\balaj\\AppData\\Local\\Programs\\Python\\Python312\\Lib\\site-packages\\pandas\\core\\frame.py:4108\u001b[0m, in \u001b[0;36mDataFrame.__getitem__\u001b[1;34m(self, key)\u001b[0m\n\u001b[0;32m   4106\u001b[0m     \u001b[38;5;28;01mif\u001b[39;00m is_iterator(key):\n\u001b[0;32m   4107\u001b[0m         key \u001b[38;5;241m=\u001b[39m \u001b[38;5;28mlist\u001b[39m(key)\n\u001b[1;32m-> 4108\u001b[0m     indexer \u001b[38;5;241m=\u001b[39m \u001b[38;5;28;43mself\u001b[39;49m\u001b[38;5;241;43m.\u001b[39;49m\u001b[43mcolumns\u001b[49m\u001b[38;5;241;43m.\u001b[39;49m\u001b[43m_get_indexer_strict\u001b[49m\u001b[43m(\u001b[49m\u001b[43mkey\u001b[49m\u001b[43m,\u001b[49m\u001b[43m \u001b[49m\u001b[38;5;124;43m\"\u001b[39;49m\u001b[38;5;124;43mcolumns\u001b[39;49m\u001b[38;5;124;43m\"\u001b[39;49m\u001b[43m)\u001b[49m[\u001b[38;5;241m1\u001b[39m]\n\u001b[0;32m   4110\u001b[0m \u001b[38;5;66;03m# take() does not accept boolean indexers\u001b[39;00m\n\u001b[0;32m   4111\u001b[0m \u001b[38;5;28;01mif\u001b[39;00m \u001b[38;5;28mgetattr\u001b[39m(indexer, \u001b[38;5;124m\"\u001b[39m\u001b[38;5;124mdtype\u001b[39m\u001b[38;5;124m\"\u001b[39m, \u001b[38;5;28;01mNone\u001b[39;00m) \u001b[38;5;241m==\u001b[39m \u001b[38;5;28mbool\u001b[39m:\n",
      "File \u001b[1;32mc:\\Users\\balaj\\AppData\\Local\\Programs\\Python\\Python312\\Lib\\site-packages\\pandas\\core\\indexes\\base.py:6200\u001b[0m, in \u001b[0;36mIndex._get_indexer_strict\u001b[1;34m(self, key, axis_name)\u001b[0m\n\u001b[0;32m   6197\u001b[0m \u001b[38;5;28;01melse\u001b[39;00m:\n\u001b[0;32m   6198\u001b[0m     keyarr, indexer, new_indexer \u001b[38;5;241m=\u001b[39m \u001b[38;5;28mself\u001b[39m\u001b[38;5;241m.\u001b[39m_reindex_non_unique(keyarr)\n\u001b[1;32m-> 6200\u001b[0m \u001b[38;5;28;43mself\u001b[39;49m\u001b[38;5;241;43m.\u001b[39;49m\u001b[43m_raise_if_missing\u001b[49m\u001b[43m(\u001b[49m\u001b[43mkeyarr\u001b[49m\u001b[43m,\u001b[49m\u001b[43m \u001b[49m\u001b[43mindexer\u001b[49m\u001b[43m,\u001b[49m\u001b[43m \u001b[49m\u001b[43maxis_name\u001b[49m\u001b[43m)\u001b[49m\n\u001b[0;32m   6202\u001b[0m keyarr \u001b[38;5;241m=\u001b[39m \u001b[38;5;28mself\u001b[39m\u001b[38;5;241m.\u001b[39mtake(indexer)\n\u001b[0;32m   6203\u001b[0m \u001b[38;5;28;01mif\u001b[39;00m \u001b[38;5;28misinstance\u001b[39m(key, Index):\n\u001b[0;32m   6204\u001b[0m     \u001b[38;5;66;03m# GH 42790 - Preserve name from an Index\u001b[39;00m\n",
      "File \u001b[1;32mc:\\Users\\balaj\\AppData\\Local\\Programs\\Python\\Python312\\Lib\\site-packages\\pandas\\core\\indexes\\base.py:6252\u001b[0m, in \u001b[0;36mIndex._raise_if_missing\u001b[1;34m(self, key, indexer, axis_name)\u001b[0m\n\u001b[0;32m   6249\u001b[0m     \u001b[38;5;28;01mraise\u001b[39;00m \u001b[38;5;167;01mKeyError\u001b[39;00m(\u001b[38;5;124mf\u001b[39m\u001b[38;5;124m\"\u001b[39m\u001b[38;5;124mNone of [\u001b[39m\u001b[38;5;132;01m{\u001b[39;00mkey\u001b[38;5;132;01m}\u001b[39;00m\u001b[38;5;124m] are in the [\u001b[39m\u001b[38;5;132;01m{\u001b[39;00maxis_name\u001b[38;5;132;01m}\u001b[39;00m\u001b[38;5;124m]\u001b[39m\u001b[38;5;124m\"\u001b[39m)\n\u001b[0;32m   6251\u001b[0m not_found \u001b[38;5;241m=\u001b[39m \u001b[38;5;28mlist\u001b[39m(ensure_index(key)[missing_mask\u001b[38;5;241m.\u001b[39mnonzero()[\u001b[38;5;241m0\u001b[39m]]\u001b[38;5;241m.\u001b[39munique())\n\u001b[1;32m-> 6252\u001b[0m \u001b[38;5;28;01mraise\u001b[39;00m \u001b[38;5;167;01mKeyError\u001b[39;00m(\u001b[38;5;124mf\u001b[39m\u001b[38;5;124m\"\u001b[39m\u001b[38;5;132;01m{\u001b[39;00mnot_found\u001b[38;5;132;01m}\u001b[39;00m\u001b[38;5;124m not in index\u001b[39m\u001b[38;5;124m\"\u001b[39m)\n",
      "\u001b[1;31mKeyError\u001b[0m: \"['skin_rash', 'nodal_skin_eruptions', 'continuous_sneezing', 'shivering', 'chills', 'joint_pain', 'stomach_pain', 'acidity', 'ulcers_on_tongue', 'muscle_wasting', 'vomiting', 'burning_micturition', 'spotting_ urination', 'fatigue', 'weight_gain', 'anxiety', 'cold_hands_and_feets', 'mood_swings', 'weight_loss', 'restlessness', 'lethargy', 'patches_in_throat', 'irregular_sugar_level', 'cough', 'high_fever', 'sunken_eyes', 'breathlessness', 'sweating', 'dehydration', 'indigestion', 'headache', 'yellowish_skin', 'dark_urine', 'nausea', 'loss_of_appetite', 'pain_behind_the_eyes', 'back_pain', 'constipation', 'abdominal_pain', 'diarrhoea', 'mild_fever', 'yellow_urine', 'yellowing_of_eyes', 'acute_liver_failure', 'fluid_overload', 'swelling_of_stomach', 'swelled_lymph_nodes', 'malaise', 'blurred_and_distorted_vision', 'phlegm', 'throat_irritation', 'redness_of_eyes', 'sinus_pressure', 'runny_nose', 'congestion', 'chest_pain', 'weakness_in_limbs', 'fast_heart_rate', 'pain_during_bowel_movements', 'pain_in_anal_region', 'bloody_stool', 'irritation_in_anus', 'neck_pain', 'dizziness', 'cramps', 'bruising', 'obesity', 'swollen_legs', 'swollen_blood_vessels', 'puffy_face_and_eyes', 'enlarged_thyroid', 'brittle_nails', 'swollen_extremeties', 'excessive_hunger', 'extra_marital_contacts', 'drying_and_tingling_lips', 'slurred_speech', 'knee_pain', 'hip_joint_pain', 'muscle_weakness', 'stiff_neck', 'swelling_joints', 'movement_stiffness', 'spinning_movements', 'loss_of_balance', 'unsteadiness', 'weakness_of_one_body_side', 'loss_of_smell', 'bladder_discomfort', 'foul_smell_of urine', 'continuous_feel_of_urine', 'passage_of_gases', 'internal_itching', 'toxic_look_(typhos)', 'depression', 'irritability', 'muscle_pain', 'altered_sensorium', 'red_spots_over_body', 'belly_pain', 'abnormal_menstruation', 'dischromic _patches', 'watering_from_eyes', 'increased_appetite', 'polyuria', 'family_history', 'mucoid_sputum', 'rusty_sputum', 'lack_of_concentration', 'visual_disturbances', 'receiving_blood_transfusion', 'receiving_unsterile_injections', 'coma', 'stomach_bleeding', 'distention_of_abdomen', 'history_of_alcohol_consumption', 'fluid_overload.1', 'blood_in_sputum', 'prominent_veins_on_calf', 'palpitations', 'painful_walking', 'pus_filled_pimples', 'blackheads', 'scurring', 'skin_peeling', 'silver_like_dusting', 'small_dents_in_nails', 'inflammatory_nails', 'blister', 'red_sore_around_nose', 'yellow_crust_ooze', 'prognosis'] not in index\""
     ]
    }
   ],
   "source": [
    "import pandas as pd\n",
    "\n",
    "# Load the datasets\n",
    "dataset_path = \"D:/Capstone Project/sahayak-main/sahayak-main/flask/datasets/dataset.csv\"\n",
    "training_path = \"D:/Capstone Project/sahayak-main/sahayak-main/flask/datasets/Training.csv\"\n",
    "\n",
    "dataset_df = pd.read_csv(dataset_path)\n",
    "training_df = pd.read_csv(training_path)\n",
    "\n",
    "# Get the columns\n",
    "dataset_columns = set(dataset_df.columns)\n",
    "training_columns = set(training_df.columns)\n",
    "\n",
    "# Find the common columns\n",
    "common_columns = dataset_columns.intersection(training_columns)\n",
    "\n",
    "print(\"Common columns:\", common_columns)\n",
    "\n",
    "# Create a new DataFrame with only the common columns\n",
    "new_training_df = dataset_df[list(common_columns)]\n",
    "\n",
    "# Ensure the columns are in the same order as in the original Training.csv\n",
    "new_training_df = new_training_df[training_df.columns]\n",
    "\n",
    "# Save the new Training.csv\n",
    "new_training_path = \"D:/Capstone Project/sahayak-main/sahayak-main/flask/datasets/Training_converted.csv\"\n",
    "new_training_df.to_csv(new_training_path, index=False)\n",
    "\n",
    "print(\"New Training.csv created with common columns.\")\n"
   ]
  }
 ],
 "metadata": {
  "kernelspec": {
   "display_name": "Python 3",
   "language": "python",
   "name": "python3"
  },
  "language_info": {
   "codemirror_mode": {
    "name": "ipython",
    "version": 3
   },
   "file_extension": ".py",
   "mimetype": "text/x-python",
   "name": "python",
   "nbconvert_exporter": "python",
   "pygments_lexer": "ipython3",
   "version": "3.12.6"
  }
 },
 "nbformat": 4,
 "nbformat_minor": 2
}
